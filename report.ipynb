{
  "nbformat": 4,
  "nbformat_minor": 0,
  "metadata": {
    "colab": {
      "provenance": [],
      "mount_file_id": "https://github.com/Nqam/store_report/blob/main/report.ipynb",
      "authorship_tag": "ABX9TyNN4HoZWu4DlS6AIzxzmTyX",
      "include_colab_link": true
    },
    "kernelspec": {
      "name": "python3",
      "display_name": "Python 3"
    },
    "language_info": {
      "name": "python"
    }
  },
  "cells": [
    {
      "cell_type": "markdown",
      "metadata": {
        "id": "view-in-github",
        "colab_type": "text"
      },
      "source": [
        "<a href=\"https://colab.research.google.com/github/Nqam/store_report/blob/main/report.ipynb\" target=\"_parent\"><img src=\"https://colab.research.google.com/assets/colab-badge.svg\" alt=\"Open In Colab\"/></a>"
      ]
    },
    {
      "cell_type": "markdown",
      "source": [
        "Импортируем библиотеки для работы с таблицами"
      ],
      "metadata": {
        "id": "a7pzXA-0Zwtj"
      }
    },
    {
      "cell_type": "code",
      "execution_count": 1,
      "metadata": {
        "id": "iH2NpwtDWHkg"
      },
      "outputs": [],
      "source": [
        "import pandas as pd\n",
        "import numpy as np\n",
        "import re"
      ]
    },
    {
      "cell_type": "code",
      "source": [
        "#Указываем путь на отчеты для каждой переменной - розничный и фабричный\n",
        "#(можно загрузить файлы во временную библиотеку блокнота и провести все операции с ними)\n",
        "rozn = '/content/drive/MyDrive/Розничный отчет Май 1-31.xlsx'\n",
        "fabr = '/content/drive/MyDrive/Май 1-31 фабричный.xlsx'"
      ],
      "metadata": {
        "id": "iDtjotwyWJw5"
      },
      "execution_count": 4,
      "outputs": []
    },
    {
      "cell_type": "markdown",
      "source": [
        "Загружаем отчеты в память программы"
      ],
      "metadata": {
        "id": "I1m7K2ybgOQ0"
      }
    },
    {
      "cell_type": "code",
      "source": [
        "%%time\n",
        "rozn_t = pd.read_excel(rozn, skiprows=2) #это розничный отчет, пропускаются две строки, там шапка с объединенными ячейками\n",
        "fabr_t = pd.read_excel(fabr) #это фабричный отчет"
      ],
      "metadata": {
        "id": "hmYkVWIoWi8G",
        "colab": {
          "base_uri": "https://localhost:8080/"
        },
        "outputId": "bd813986-4b0a-466a-d517-1544a17ddd77"
      },
      "execution_count": 5,
      "outputs": [
        {
          "output_type": "stream",
          "name": "stderr",
          "text": [
            "/usr/local/lib/python3.10/dist-packages/openpyxl/styles/stylesheet.py:226: UserWarning: Workbook contains no default style, apply openpyxl's default\n",
            "  warn(\"Workbook contains no default style, apply openpyxl's default\")\n"
          ]
        },
        {
          "output_type": "stream",
          "name": "stdout",
          "text": [
            "CPU times: user 21 s, sys: 221 ms, total: 21.2 s\n",
            "Wall time: 22.6 s\n"
          ]
        }
      ]
    },
    {
      "cell_type": "markdown",
      "source": [
        "Переименовываем все столбцы к общему виду"
      ],
      "metadata": {
        "id": "WRoii_GPZj64"
      }
    },
    {
      "cell_type": "code",
      "source": [
        "rozn_t = rozn_t.rename(columns={'Модель': 'Дизайн',\n",
        "                        'Цвет':'Цвет ткани',\n",
        "                        'Название акции':'Акции',\n",
        "                        'Структура на момент продажи':'Коллекция'})\n",
        "\n",
        "fabr_t = fabr_t.rename(columns={'№':'Договор',\n",
        "                        'от даты':'Дата',\n",
        "                        'Основа':'Ткань',\n",
        "                        'Оформил':'Продавец',\n",
        "                        'Канал сбыта':'Канал продаж',\n",
        "                        'Цвет основы':'Цвет ткани',\n",
        "                        'Модель':'Дизайн',\n",
        "                        'Название акции':'Акции',\n",
        "                        'Заказчик':'Розничная точка'\n",
        "                        })\n",
        "\n",
        "#Добавляем недостающие для слияния столбцы\n",
        "rozn_t['Источник_строк'] = 'Розничный отчет'\n",
        "rozn_t['Канал продаж'] = ''\n",
        "rozn_t['Скид. пост.'] = np.NaN\n",
        "rozn_t['Скид. фабр.'] = np.NaN\n",
        "rozn_t['Кат.'] = ''\n",
        "\n",
        "fabr_t['Источник_строк'] = 'Фабричный отчет'\n",
        "fabr_t['Заказчик'] = ''\n",
        "fabr_t['Механизм трансформации'] = ''\n",
        "fabr_t['Банковские продукты'] = ''\n",
        "fabr_t['Название салона'] = ''\n",
        "fabr_t['Юр. лицо'] = ''\n",
        "fabr_t['Розничная точка'] = ''"
      ],
      "metadata": {
        "id": "eA-54iRuWy4M"
      },
      "execution_count": 6,
      "outputs": []
    },
    {
      "cell_type": "code",
      "source": [
        "rozn_t = rozn_t[[\n",
        "  'Источник_строк','Акции','Банковские продукты','Бренд','Дата','Дизайн','Договор','Заказчик',\n",
        "  'Канал продаж','Кат.','Категория заказчика','Комплектация','Коллекция','Механизм трансформации',\n",
        "  'Название салона','Особые отметки','Пл.отгруз','Примечание','Продавец','Регион','Розничная точка',\n",
        "  'Руководитель группы','Скид. пост.','Скид. прод.','Скид. фабр.','Сумма','Ткань','Цвет ткани',\n",
        "  'Цена','Шт.','Юр. лицо']]"
      ],
      "metadata": {
        "id": "OIu4k7wOmKps"
      },
      "execution_count": 7,
      "outputs": []
    },
    {
      "cell_type": "code",
      "source": [
        "fabr_t = fabr_t[[\n",
        "  'Источник_строк','Акции','Банковские продукты','Бренд','Дата','Дизайн','Договор',\n",
        "  'Заказчик','Канал продаж','Кат.','Категория заказчика','Комплектация','Коллекция',\n",
        "  'Механизм трансформации','Название салона','Особые отметки','Пл.отгруз','Примечание',\n",
        "  'Продавец','Регион','Розничная точка','Руководитель группы','Скид. пост.','Скид. прод.',\n",
        "  'Скид. фабр.','Сумма','Ткань','Цвет ткани','Цена','Шт.','Юр. лицо']]"
      ],
      "metadata": {
        "id": "H1Yjm12vmiOQ"
      },
      "execution_count": 8,
      "outputs": []
    },
    {
      "cell_type": "code",
      "source": [
        "df = pd.concat([rozn_t,fabr_t], ignore_index=True)\n",
        "df = df[df['Дата'].isna() == False]\n",
        "df['Шт. для MOON'] = ''"
      ],
      "metadata": {
        "id": "Qyrs7xDWlTTw"
      },
      "execution_count": 9,
      "outputs": []
    },
    {
      "cell_type": "code",
      "source": [
        "df['Диз+мех'] = ''\n",
        "df['Спальное место'] = ''\n",
        "df['Тип дивана'] = ''\n",
        "df['Настил'] = ''\n",
        "df['Категория заказчика'] = df['Категория заказчика'].astype(str)\n",
        "df['Скид. прод.'] = df['Скид. прод.'].str.replace(',', '.').astype(float)"
      ],
      "metadata": {
        "id": "M-8_QB3wPOCx"
      },
      "execution_count": 10,
      "outputs": []
    },
    {
      "cell_type": "markdown",
      "source": [
        "Удаляем модель 500 и точки содержащие \"склад\" и \"интернет\""
      ],
      "metadata": {
        "id": "DZX8vj_sgR1J"
      }
    },
    {
      "cell_type": "code",
      "source": [
        "def int_skl(x):\n",
        "  if pd.isna(x) == True:\n",
        "    return x\n",
        "  elif 'склад' in x.lower():\n",
        "    return 'DROP_ROW'\n",
        "  elif 'интернет' in x.lower() and 'ногинск' not in x.lower():\n",
        "    return 'DROP_ROW'\n",
        "  else:\n",
        "    return x\n",
        "\n",
        "df['Розничная точка_code'] = df['Розничная точка'].apply(int_skl)\n",
        "df = df[(df['Розничная точка'] != 'DROP_ROW')&(df['Дизайн'] != '500')]\n",
        "df = df.drop('Розничная точка_code', axis=1)"
      ],
      "metadata": {
        "id": "FD1f4qoFv0oN"
      },
      "execution_count": 11,
      "outputs": []
    },
    {
      "cell_type": "markdown",
      "source": [
        "Меняем поле \"дата\" на нормальный тип"
      ],
      "metadata": {
        "id": "2G8H4sGJgXcp"
      }
    },
    {
      "cell_type": "code",
      "source": [
        "#from pandas.io.sql import date\n",
        "def str_to_date(x):\n",
        "  x = '.'.join([x[0:2],x[3:5],x[6:10]])\n",
        "  return x\n",
        "\n",
        "df['Дата'] = pd.to_datetime(df['Дата'].apply(str_to_date), dayfirst=True)"
      ],
      "metadata": {
        "id": "SBNrmrU0d-8c"
      },
      "execution_count": 12,
      "outputs": []
    },
    {
      "cell_type": "markdown",
      "source": [
        "Убираем лишнее в поле \"механизм трансформации\" (МТ, кавычки)"
      ],
      "metadata": {
        "id": "jdyr7X02ga-s"
      }
    },
    {
      "cell_type": "code",
      "source": [
        "def mechanism(x):\n",
        "  if pd.isna(x) == True or x == '':\n",
        "    return ''\n",
        "  elif ('МТ ' in x or 'МТ ' in x) and x[-2] != ' ':\n",
        "    return x[3:].replace('\"','')\n",
        "  elif re.search(r'^\\bМТ',x) and x[-2] == ' ':\n",
        "    return x[3:-2].replace('\"','')\n",
        "  elif not re.search(r'^\\bМТ',x) and x[-2] == ' ':\n",
        "    return x[:-2].replace('\"','')\n",
        "  else:\n",
        "    return x\n",
        "\n",
        "df['Механизм трансформации'] = df['Механизм трансформации'].apply(mechanism)"
      ],
      "metadata": {
        "id": "gK_HF0m2hp99"
      },
      "execution_count": 13,
      "outputs": []
    },
    {
      "cell_type": "markdown",
      "source": [
        "Убираем из примечаний и особых отметок \"отказы\" и \"ошибочные\""
      ],
      "metadata": {
        "id": "BlYWZxVklweY"
      }
    },
    {
      "cell_type": "code",
      "source": [
        "df['Примечание'] = df['Примечание'].fillna('-')\n",
        "df['Особые отметки'] = df['Особые отметки'].fillna('-')\n",
        "df = df[(df['Примечание'].str.lower().str.contains('отказ', regex=True) == False)&(df['Примечание'].str.lower().str.contains('ошибочн', regex=True) == False)\\\n",
        "        &(df['Особые отметки'].str.lower().str.contains('отказ', regex=True) == False)|(df['Особые отметки'].str.lower().str.contains('ошибочн', regex=True) == False)]"
      ],
      "metadata": {
        "id": "MifqVHQNf4Y_"
      },
      "execution_count": 14,
      "outputs": []
    },
    {
      "cell_type": "markdown",
      "source": [
        "Меняем бренды"
      ],
      "metadata": {
        "id": "g9xyuz7932b8"
      }
    },
    {
      "cell_type": "code",
      "source": [
        "#Меняю бренды на MOON или MOONFAMILY\n",
        "def brand(x):\n",
        "  if pd.isna(x) == True:\n",
        "    return ''\n",
        "  elif  'marketpl' in x.lower() and 'moonfamily' not in x.lower():\n",
        "    return 'MOON'\n",
        "  elif 'moonfamily' in x.lower() and 'marketpl' in x.lower():\n",
        "    return 'MOONFAMILY'\n",
        "  elif  x.lower() == 'marketplace':\n",
        "    return 'MOONFAMILY'\n",
        "  else:\n",
        "    return x\n",
        "\n",
        "df['Бренд'] = df['Бренд'].apply(brand)\n",
        "df = df[df['Бренд'] != 'HOFF'] #Удаляю строки с брендом ХОФФ"
      ],
      "metadata": {
        "id": "D0Hj1kyt341-"
      },
      "execution_count": 15,
      "outputs": []
    },
    {
      "cell_type": "code",
      "source": [
        "df['Бренд'].unique()"
      ],
      "metadata": {
        "colab": {
          "base_uri": "https://localhost:8080/"
        },
        "id": "apR0S4YncD80",
        "outputId": "ef67deb1-83e8-4e3a-9980-d85751358046"
      },
      "execution_count": 16,
      "outputs": [
        {
          "output_type": "execute_result",
          "data": {
            "text/plain": [
              "array(['MOON', 'MOONFAMILY', ''], dtype=object)"
            ]
          },
          "metadata": {},
          "execution_count": 16
        }
      ]
    },
    {
      "cell_type": "markdown",
      "source": [
        "Удаляем пустую или нулевую сумму заказа"
      ],
      "metadata": {
        "id": "eY7g71PR740m"
      }
    },
    {
      "cell_type": "code",
      "source": [
        "df = df[(df['Сумма'] != 0) & (pd.isna(df['Сумма']) == False)]"
      ],
      "metadata": {
        "id": "v15xwogi53LJ"
      },
      "execution_count": 17,
      "outputs": []
    },
    {
      "cell_type": "markdown",
      "source": [
        "Переименовать розничную точку ДИСКОНТ MOON_TRADE в Выставочный зал фабрики MF\n",
        "\n",
        "Руководитель направления(группы) Осипова + Розничная точка Выставочный зал Ногинск - Выставочный зал фабрики MOON.(ДОДЕЛАТЬ)"
      ],
      "metadata": {
        "id": "AoPUBkcHSyEe"
      }
    },
    {
      "cell_type": "markdown",
      "source": [
        "Если Категория заказчика Оптовый – канал продаж Оптовый.\n",
        "Категория заказчика Франчайзи М – Франчайзи М.\n",
        "Категория заказчика Франчайзи МТ – Франчайзи MF.\n"
      ],
      "metadata": {
        "id": "LoawFsiPK1Ff"
      }
    },
    {
      "cell_type": "code",
      "source": [
        "def rozn(x):\n",
        "  if pd.isna(x['Розничная точка']) == True:\n",
        "    return ''\n",
        "  elif 'оптовый' in x['Категория заказчика'].lower():\n",
        "    return 'Оптовый'\n",
        "  elif 'франчайзи м' in x['Категория заказчика'].lower():\n",
        "    return 'Франчайзи М'\n",
        "  elif 'франчайзи мт' in x['Категория заказчика'].lower():\n",
        "    return 'Франчайзи MF'\n",
        "  elif 'дисконт moon-trade' in x['Розничная точка'].lower():\n",
        "    return 'Выставочный зал фабрики MF'\n",
        "  elif 'кроват' in x['Розничная точка'].lower():\n",
        "    return 'КиМ'\n",
        "  elif 'осипова' in x['Руководитель группы'].lower() and 'Выставочный зал ногинск(интернет)' in x['Розничная точка']:\n",
        "    return 'Выставочный зал фабрики MOON'\n",
        "  elif 'михайлова' in x['Руководитель группы'].lower() and 'дисконт moon-trade' not in x['Розничная точка'].lower():\n",
        "    return 'Розница MF'\n",
        "  elif 'носкова' in x['Руководитель группы'].lower() and 'дисконт moon-trade' not in x['Розничная точка'].lower():\n",
        "    return 'Розница M'\n",
        "  else:\n",
        "    return x['Розничная точка']\n",
        "\n",
        "df['Канал продаж'] = df.apply(rozn, axis = 1)"
      ],
      "metadata": {
        "id": "fwY2NSlHS27T"
      },
      "execution_count": 18,
      "outputs": []
    },
    {
      "cell_type": "code",
      "source": [
        "df['Канал продаж'].unique()"
      ],
      "metadata": {
        "colab": {
          "base_uri": "https://localhost:8080/"
        },
        "id": "lW-rRqsbcrB-",
        "outputId": "b352fe49-83d9-41f9-a157-201e8e32b979"
      },
      "execution_count": 19,
      "outputs": [
        {
          "output_type": "execute_result",
          "data": {
            "text/plain": [
              "array(['Выставочный зал Ногинск', 'Франчайзи М', 'Розница M', 'КиМ',\n",
              "       'Розница MF', 'Оптовый', 'Выставочный зал Ногинск(интернет)',\n",
              "       'Выставочный зал фабрики MF', ''], dtype=object)"
            ]
          },
          "metadata": {},
          "execution_count": 19
        }
      ]
    },
    {
      "cell_type": "markdown",
      "source": [
        "1. Комплектация \"41 \" - Механизм трансформации \"Бельевой короб\"\n",
        "2. Комплектация '41.','42.',\"Т3\",\"Т10\" - Пантограф\n",
        "3. Комплектация 50. и 60. - Форвард\n",
        "4. Комплектация \"Д2\" - Дельфин\n",
        "5. Комплектация Н10, Н20, Н30, Н12 - Аккордеон\n",
        "6. Комплектация А10, А2, А3 - Еврокнижка\n",
        "7. Комплектация содержит 12 - Кресла без механизма"
      ],
      "metadata": {
        "id": "xmDPZXWDTpIO"
      }
    },
    {
      "cell_type": "code",
      "source": [
        "#Задаю списки названий которые будут использоваться для замены\n",
        "pant = ['41.','42.','Т3','Т10']\n",
        "forw = ['50.','60. ']\n",
        "accord = ['Н10', 'Н20', 'Н30', 'Н12']\n",
        "eurobook = ['А10', 'А2', 'А3']\n",
        "\n",
        "\n",
        "df['Комплектация'] = df['Комплектация'].str.replace('H10','Н10').str.replace('H20','Н20').str.replace('H30','Н30')\\\n",
        "  .str.replace('H12','Н12')\n",
        "df['Комплектация'] = df['Комплектация'].str.replace('A10','А10').str.replace('A2','А2').str.replace('A3','А3')\n",
        "df['Комплектация'] = df['Комплектация'].str.replace('T3','Т3').str.replace('T10','Т10')\n",
        "\n",
        "#Проводим замену, в случае если элемент из списка встречается в комплектации - присваиваем мех. трансформации\n",
        "def comp41(x):\n",
        "  if pd.isna(x['Комплектация']) == True:\n",
        "    return x['Механизм трансформации']\n",
        "  elif '41 ' in x['Комплектация'] and pd.isna(x['Механизм трансформации']) == True:\n",
        "    return 'Бельевой короб'\n",
        "  elif any([i in x['Комплектация'] for i in pant]) and pd.isna(x['Механизм трансформации']) == True:\n",
        "    return 'Пантограф'\n",
        "  elif any([i in x['Комплектация'] for i in forw]) and pd.isna(x['Механизм трансформации']) == True:\n",
        "    return 'Форвард'\n",
        "  elif 'Д2' in x['Комплектация'] and pd.isna(x['Механизм трансформации']) == True:\n",
        "    return 'Дельфин'\n",
        "  elif any([i in x['Комплектация'] for i in accord]) and pd.isna(x['Механизм трансформации']) == True \\\n",
        "                 and '41Н10' not in x['Комплектация'] and '41Н20' not in x['Комплектация'] and '41Н30' not in x['Комплектация']:\n",
        "    return 'Аккордеон'\n",
        "  elif any([i in x['Комплектация'] for i in eurobook]) and pd.isna(x['Механизм трансформации']) == True:\n",
        "    return 'Еврокнижка'\n",
        "  elif '12' in x['Комплектация'] and pd.isna(x['Механизм трансформации']) == True:\n",
        "    return 'Кресла без механизма'\n",
        "  else:\n",
        "    return x['Механизм трансформации']\n",
        "\n",
        "df['Механизм трансформации'] = df.apply(comp41, axis = 1)"
      ],
      "metadata": {
        "id": "XZ4MrdHbUQBv"
      },
      "execution_count": 20,
      "outputs": []
    },
    {
      "cell_type": "markdown",
      "source": [
        "Добавляем новые столбцы (Диз+мех, Спальное место, Тип дивана, Настил)(ДОДЕЛАТЬ)"
      ],
      "metadata": {
        "id": "U67X-lxK6D2Z"
      }
    },
    {
      "cell_type": "code",
      "source": [
        "df['Диз+мех'] = df['Дизайн'] + ' ' + df['Механизм трансформации']"
      ],
      "metadata": {
        "id": "XqNwa3hr5Z_T"
      },
      "execution_count": 21,
      "outputs": []
    },
    {
      "cell_type": "markdown",
      "source": [
        "#Спальное место\n",
        "\n",
        "Если Комплектация А10 х2 то Спальное место \"160x200\"\n",
        "\n",
        "1. А21,A22,H10,H12 -  80x200\n",
        "2. А27,A30,A32,H32,H32C -  160x200\n",
        "3. Н20,H22 -  120x200\n",
        "4. Н30 -  140x200\n",
        "5. H32XL - 180x200\n",
        "\n",
        "\n"
      ],
      "metadata": {
        "id": "ahhT0oI7Ulpu"
      }
    },
    {
      "cell_type": "code",
      "source": [
        "#Задаю списки названий которые будут использоваться для замены\n",
        "eight = ['А21','А22','Н10','Н12']\n",
        "six = ['А27','А30','А32','Н32C','Н32']\n",
        "twelve = ['Н20','Н22']\n",
        "\n",
        "#Задаем размеры спального места в зависимости от комплектации\n",
        "def place(x):\n",
        "  if pd.isna(x['Комплектация']) == True:\n",
        "    return x['Спальное место']\n",
        "  elif x['Комплектация'].count('А10') > 1:\n",
        "    return '160x200'\n",
        "  elif  any([i in x['Комплектация'] for i in eight]) :\n",
        "    return '80x200'\n",
        "  elif  any([i in x['Комплектация'] for i in twelve]):\n",
        "    return '120x200'\n",
        "  elif  'Н30' in x['Комплектация']:\n",
        "    return '140x200'\n",
        "  elif  any([i in x['Комплектация'] for i in six]):\n",
        "    return '160x200'\n",
        "  elif  'Н32XL' in x['Комплектация']:\n",
        "    return '180x200'\n",
        "  else:\n",
        "    return x['Спальное место']\n",
        "\n",
        "\n",
        "df['Спальное место'] = df.apply(place, axis = 1)"
      ],
      "metadata": {
        "id": "j5Ri6WMXW2Bg"
      },
      "execution_count": 22,
      "outputs": []
    },
    {
      "cell_type": "markdown",
      "source": [
        "Модель\n",
        "1. 044, 123, 134 – 140x200\n",
        "2. 110, 018, 109, 125, 127, 015 – 150x208\n",
        "3. 107 – 150x210\n",
        "4. 117 – 148x208"
      ],
      "metadata": {
        "id": "KDYdpTE3YSZ2"
      }
    },
    {
      "cell_type": "code",
      "source": [
        "four = ['044','123','134'] #размер 140х200\n",
        "five = ['110','018','109','125','127','015'] #размер 150х208\n",
        "\n",
        "def place(x):\n",
        "  if pd.isna(x['Дизайн']) == True:\n",
        "    return x['Спальное место']\n",
        "  elif  any([i in x['Дизайн'] for i in four]) and pd.isna(x['Спальное место']) == True:\n",
        "    return '140x200'\n",
        "  elif  any([i in x['Дизайн'] for i in five]) and pd.isna(x['Спальное место']) == True:\n",
        "    return '150x208'\n",
        "  elif  '107' in x['Дизайн'] and pd.isna(x['Спальное место']) == True:\n",
        "    return '150x210'\n",
        "  elif  '117' in x['Дизайн'] and pd.isna(x['Спальное место']) == True:\n",
        "    return '148x208'\n",
        "  else:\n",
        "    return x['Спальное место']\n",
        "\n",
        "\n",
        "df['Спальное место'] = df.apply(place, axis = 1)"
      ],
      "metadata": {
        "id": "h8WDUnOoYUjg"
      },
      "execution_count": 23,
      "outputs": []
    },
    {
      "cell_type": "markdown",
      "source": [
        "Пантографы\n",
        "\n",
        "1.   135,139,140,141,142,143,144,145,146,173,174,183,184,185,180 – 140x200\n",
        "2.   165, 171, 172, 175, 179 - 150x200\n",
        "3.   007, 008,808, 015, 107, 111, 112, 160, 018, 109, 124, 125, 161, 162, 166 – 160x200\n",
        "\n",
        "Пантограф\n",
        "\n",
        "1.  Модель 160 и Т30 - 160x205\n",
        "2.  Модель 176,178 если Т30 и 140 - 140x200\n",
        "3.  если 150 - 150x200\n",
        "4.  если 005, если А10 x2 - 160x200\n",
        "5. если Т30 и 150 - 150x200 (перекрывается 3 пунктом)\n",
        "\n",
        "Модель\n",
        "1. Модель 032 - 80x190"
      ],
      "metadata": {
        "id": "QQBKM_JoYXXz"
      }
    },
    {
      "cell_type": "code",
      "source": [
        "four = ['135','139','140','141','142','143','144','145','146','173','174','183','184','185','180'] #размер 140х200\n",
        "five = ['165','171','172','175','179'] #размер 150х200\n",
        "six = ['007','008','808','015','107','111','112','160','018','109','124','125','161','162','166'] #размер 160х200\n",
        "\n",
        "def place(x):\n",
        "  if pd.isna(x['Дизайн']) == True:\n",
        "    return x['Спальное место']\n",
        "  elif  any([i in x['Дизайн'] for i in four]) and pd.isna(x['Спальное место']) == True and x['Механизм трансформации'] == 'Пантограф':\n",
        "    return '140x200'\n",
        "  elif  any([i in x['Дизайн'] for i in five]) and pd.isna(x['Спальное место']) == True and x['Механизм трансформации'] == 'Пантограф':\n",
        "    return '150x200'\n",
        "  elif  any([i in x['Дизайн'] for i in six]) and pd.isna(x['Спальное место']) == True and x['Механизм трансформации'] == 'Пантограф':\n",
        "    return '160x200'\n",
        "\n",
        "  elif  '160' in x['Дизайн'] and 'Т30' in x['Комплектация'] and pd.isna(x['Спальное место']) == True and x['Механизм трансформации'] == 'Пантограф':\n",
        "    return '160x205'\n",
        "  elif  ('176' in x['Дизайн'] or '178' in x['Дизайн'] or '140' in x['Дизайн']) and 'Т30' in x['Комплектация']\\\n",
        "   and pd.isna(x['Спальное место']) == True and x['Механизм трансформации'] == 'Пантограф':\n",
        "    return '140x200'\n",
        "  elif  '150' in x['Дизайн'] and pd.isna(x['Спальное место']) == True \\\n",
        "   and x['Механизм трансформации'] == 'Пантограф':\n",
        "    return '150x200'\n",
        "  elif  ('005' in x['Дизайн'] or x['Комплектация'].count('А10') > 1 or 'Т10' in x['Комплектация'])  and  pd.isna(x['Спальное место']) == True \\\n",
        "   and x['Механизм трансформации'] == 'Пантограф':\n",
        "    return '160x200'\n",
        "  elif  '032' in x['Дизайн'] and pd.isna(x['Спальное место']) == True:\n",
        "   return '80x190'\n",
        "  else:\n",
        "    return x['Спальное место']\n",
        "\n",
        "\n",
        "df['Спальное место'] = df.apply(place, axis = 1)"
      ],
      "metadata": {
        "id": "OOBEVzgMYX4o"
      },
      "execution_count": 24,
      "outputs": []
    },
    {
      "cell_type": "markdown",
      "source": [
        "Аккордеоны\n",
        "Все комплектации, где есть модули 7Я или 91,90,17 – угловой\n",
        "Остальные – прямой\n"
      ],
      "metadata": {
        "id": "AUKs0E5JZ1zz"
      }
    },
    {
      "cell_type": "code",
      "source": [
        "def corner(x):\n",
        "  if pd.isna(x['Механизм трансформации']) == True:\n",
        "    return x['Тип дивана']\n",
        "  elif x['Механизм трансформации'] == 'Аккордеон' and \\\n",
        "   (bool(re.search(r'(?<!\\d)90(?!\\d)',x['Комплектация'])) or bool(re.search(r'(?<!\\d)91(?!\\d)',x['Комплектация'])) or bool(re.search(r'(?<!\\d)17(?!\\d)',x['Комплектация'])) or bool(re.search(r'(?<!\\d)7я(?!\\d)',x['Комплектация'].lower()))):\n",
        "    return 'угловой'\n",
        "  elif x['Механизм трансформации'] == 'Аккордеон' and x['Тип дивана'] == '':\n",
        "    return 'прямой'\n",
        "\n",
        "df['Тип дивана'] = df.apply(corner, axis=1)"
      ],
      "metadata": {
        "id": "yBJ4ejluZ8zd"
      },
      "execution_count": 25,
      "outputs": []
    },
    {
      "cell_type": "markdown",
      "source": [
        "Дельфины\n",
        "Комплектации с Д - угловой (ВОПРОС)\n"
      ],
      "metadata": {
        "id": "YDR_dHthZ-Jc"
      }
    },
    {
      "cell_type": "code",
      "source": [
        "df['Тип дивана'] = df['Механизм трансформации'].apply(lambda x: 'угловой' if x == 'Дельфин' else '') #что значит комплектация с Д"
      ],
      "metadata": {
        "id": "yX6ndlckZ_gr"
      },
      "execution_count": 26,
      "outputs": []
    },
    {
      "cell_type": "markdown",
      "source": [
        "Еврокнижка\n",
        "Если модуль 7Я - угловой,\n",
        "А27 - угловой\n",
        "Модели 039, 074 – прямые"
      ],
      "metadata": {
        "id": "ojowDsH9aM0p"
      }
    },
    {
      "cell_type": "code",
      "source": [
        "def eurobook(x):\n",
        "  if pd.isna(x['Механизм трансформации']) == True:\n",
        "    return x['Тип дивана']\n",
        "  elif x['Механизм трансформации'] == 'Еврокнижка' and (bool(re.search(r'(?<!\\d)7я(?!\\d)',x['Комплектация'].lower())) or bool(re.search(r'(?<!\\d)А27(?!\\d)',x['Комплектация'].lower()))):\n",
        "    return 'угловой'\n",
        "  elif x['Механизм трансформации'] == 'Еврокнижка' and x['Дизайн'] == '039':\n",
        "    return 'угловой'\n",
        "  elif x['Механизм трансформации'] == 'Еврокнижка' and x['Дизайн'] == '074':\n",
        "    return 'прямой'\n",
        "  else:\n",
        "    return x['Тип дивана']\n",
        "\n",
        "df['Тип дивана'] = df.apply(eurobook, axis=1)"
      ],
      "metadata": {
        "id": "U8jO8kvFar11"
      },
      "execution_count": 27,
      "outputs": []
    },
    {
      "cell_type": "markdown",
      "source": [
        "005,007, 008, 160: комплектации с модулями Т7 7Я,7ПЯ,7ЛЯ, 76П(Л)Яа, 75П(Л)Яа (не путать с 17Я) и 90 – угловые, остальное – прямые (ДОДЕЛАТЬ)"
      ],
      "metadata": {
        "id": "ol_vuwe8ayzP"
      }
    },
    {
      "cell_type": "code",
      "source": [],
      "metadata": {
        "id": "ee0Q9ctra0Ka"
      },
      "execution_count": null,
      "outputs": []
    },
    {
      "cell_type": "markdown",
      "source": [
        "007, 008, 160, 161, 162, 166 с модулями Т7 и 90,91 – угловые, остальное – прямые"
      ],
      "metadata": {
        "id": "zMMV8k9HbBUn"
      }
    },
    {
      "cell_type": "code",
      "source": [],
      "metadata": {
        "id": "YAF1c_AIbB2s"
      },
      "execution_count": null,
      "outputs": []
    },
    {
      "cell_type": "markdown",
      "source": [
        "Проставить настил.\n",
        "Все комплектации с Lux – на НПБ, остальное – ППУ.\n"
      ],
      "metadata": {
        "id": "-wkeRkPCbFt_"
      }
    },
    {
      "cell_type": "code",
      "source": [
        "df['Настил'] = df['Комплектация'].apply(lambda x: 'НПБ' if 'lux' in x.lower() else 'ППУ')"
      ],
      "metadata": {
        "id": "DtUlR4FrbGPf"
      },
      "execution_count": null,
      "outputs": []
    },
    {
      "cell_type": "code",
      "source": [
        "#должны остаться только эти столбцы\n",
        "df = df[['Договор','Дата','Заказчик','Категория заказчика','Канал продаж','Розничная точка','Дизайн','Диз+мех','Механизм трансформации',\n",
        "'Комплектация','Спальное место','Тип дивана','Настил','Ткань','Цвет ткани','Кат.','Бренд','Сумма','Цена','Шт.','Шт. для MOON',\n",
        "'Руководитель группы','Регион','Юр. лицо','Название салона','Скид. прод.','Акции','Продавец','Пл.отгруз','Примечание','Особые отметки',\n",
        "'Банковские продукты','Коллекция','Скид. пост.','Скид. фабр.',]]"
      ],
      "metadata": {
        "id": "u4SZUCmZPXem"
      },
      "execution_count": null,
      "outputs": []
    },
    {
      "cell_type": "code",
      "source": [
        "#Сцепить Канал продаж, номер договора, розничная точка - через пробел, название столбца \"Шт. для MOON\"\n",
        "df['Шт. для MOON'] = df['Канал продаж'] + ' ' + df['Договор'] + ' ' + df['Розничная точка']"
      ],
      "metadata": {
        "id": "fIeXKochrBmy"
      },
      "execution_count": null,
      "outputs": []
    },
    {
      "cell_type": "code",
      "source": [
        "df.head()"
      ],
      "metadata": {
        "colab": {
          "base_uri": "https://localhost:8080/",
          "height": 540
        },
        "id": "Idwp21lw1hXt",
        "outputId": "a70cfcce-6863-41e8-ca62-0b375f12217a"
      },
      "execution_count": null,
      "outputs": [
        {
          "output_type": "execute_result",
          "data": {
            "text/plain": [
              "     Договор       Дата                      Заказчик Категория заказчика  \\\n",
              "0   ДПФ-5900 2023-05-02  Жувлакова Елена Владимировна           Розничный   \n",
              "1   ДПФ-5900 2023-05-02  Жувлакова Елена Владимировна           Розничный   \n",
              "6     ДПФ-63 2023-05-22  Березина Наталья Геннадьевна        Франчайзи МТ   \n",
              "7    ДПФ-596 2023-05-27               Ивашечкин Олег                 МООН   \n",
              "9  ДДФ-10677 2023-05-07   Сумникова Марина Валерьевна           Розничный   \n",
              "\n",
              "              Канал продаж                                    Розничная точка  \\\n",
              "0  Выставочный зал Ногинск                            Выставочный зал Ногинск   \n",
              "1  Выставочный зал Ногинск                            Выставочный зал Ногинск   \n",
              "6              Франчайзи М       Ретюнская К.А., ИП, ТЦ \"Мебель парк\", г.Чита   \n",
              "7                Розница M  \"МООН-М\", МЦ \"Большая Медведица\" (MOON) г. Кол...   \n",
              "9  Выставочный зал Ногинск                            Выставочный зал Ногинск   \n",
              "\n",
              "  Дизайн Диз+мех Механизм трансформации                        Комплектация  \\\n",
              "0    071    071                                                 40х60 исп.1   \n",
              "1    071    071                                                 40х60 исп.1   \n",
              "6   №018   №018                          (декор подл+ков ВТ)Н30н+(2)65н+7Ян   \n",
              "7    123    123                                    ник)(2)65а v1+(прав.подл   \n",
              "9    120    120                                                        12 H   \n",
              "\n",
              "   ... Скид. прод. Акции                 Продавец   Пл.отгруз   Примечание  \\\n",
              "0  ...           0   NaN           Соголова Мария  02.05.2023  №компл.3131   \n",
              "1  ...           0   NaN           Соголова Мария  02.05.2023  №компл.3133   \n",
              "6  ...           0   NaN                      NaN  22.05.2023            -   \n",
              "7  ...           0   NaN  Ионина Галина Сергеевна  27.05.2023            -   \n",
              "9  ...           0   NaN           Соголова Мария  13.05.2023            -   \n",
              "\n",
              "  Особые отметки                          Банковские продукты  \\\n",
              "0              -  КРЕДИТ ЕВРОПА БАНК ЗАО - Безналичный расчет   \n",
              "1              -  КРЕДИТ ЕВРОПА БАНК ЗАО - Безналичный расчет   \n",
              "6      Без акции                                          NaN   \n",
              "7      Без акции     СБЕРБАНК РОССИИ ОАО - Безналичный расчет   \n",
              "9              -  КРЕДИТ ЕВРОПА БАНК ЗАО - Безналичный расчет   \n",
              "\n",
              "           Коллекция  Скид. пост.  Скид. фабр.  \n",
              "0  Продажа с подиума          NaN          NaN  \n",
              "1  Продажа с подиума          NaN          NaN  \n",
              "6  Продажа с подиума          NaN          NaN  \n",
              "7  Продажа с подиума          NaN          NaN  \n",
              "9                NaN          NaN          NaN  \n",
              "\n",
              "[5 rows x 35 columns]"
            ],
            "text/html": [
              "\n",
              "\n",
              "  <div id=\"df-c8b0effe-93a5-4b7e-bf13-af375450acfa\">\n",
              "    <div class=\"colab-df-container\">\n",
              "      <div>\n",
              "<style scoped>\n",
              "    .dataframe tbody tr th:only-of-type {\n",
              "        vertical-align: middle;\n",
              "    }\n",
              "\n",
              "    .dataframe tbody tr th {\n",
              "        vertical-align: top;\n",
              "    }\n",
              "\n",
              "    .dataframe thead th {\n",
              "        text-align: right;\n",
              "    }\n",
              "</style>\n",
              "<table border=\"1\" class=\"dataframe\">\n",
              "  <thead>\n",
              "    <tr style=\"text-align: right;\">\n",
              "      <th></th>\n",
              "      <th>Договор</th>\n",
              "      <th>Дата</th>\n",
              "      <th>Заказчик</th>\n",
              "      <th>Категория заказчика</th>\n",
              "      <th>Канал продаж</th>\n",
              "      <th>Розничная точка</th>\n",
              "      <th>Дизайн</th>\n",
              "      <th>Диз+мех</th>\n",
              "      <th>Механизм трансформации</th>\n",
              "      <th>Комплектация</th>\n",
              "      <th>...</th>\n",
              "      <th>Скид. прод.</th>\n",
              "      <th>Акции</th>\n",
              "      <th>Продавец</th>\n",
              "      <th>Пл.отгруз</th>\n",
              "      <th>Примечание</th>\n",
              "      <th>Особые отметки</th>\n",
              "      <th>Банковские продукты</th>\n",
              "      <th>Коллекция</th>\n",
              "      <th>Скид. пост.</th>\n",
              "      <th>Скид. фабр.</th>\n",
              "    </tr>\n",
              "  </thead>\n",
              "  <tbody>\n",
              "    <tr>\n",
              "      <th>0</th>\n",
              "      <td>ДПФ-5900</td>\n",
              "      <td>2023-05-02</td>\n",
              "      <td>Жувлакова Елена Владимировна</td>\n",
              "      <td>Розничный</td>\n",
              "      <td>Выставочный зал Ногинск</td>\n",
              "      <td>Выставочный зал Ногинск</td>\n",
              "      <td>071</td>\n",
              "      <td>071</td>\n",
              "      <td></td>\n",
              "      <td>40х60 исп.1</td>\n",
              "      <td>...</td>\n",
              "      <td>0</td>\n",
              "      <td>NaN</td>\n",
              "      <td>Соголова Мария</td>\n",
              "      <td>02.05.2023</td>\n",
              "      <td>№компл.3131</td>\n",
              "      <td>-</td>\n",
              "      <td>КРЕДИТ ЕВРОПА БАНК ЗАО - Безналичный расчет</td>\n",
              "      <td>Продажа с подиума</td>\n",
              "      <td>NaN</td>\n",
              "      <td>NaN</td>\n",
              "    </tr>\n",
              "    <tr>\n",
              "      <th>1</th>\n",
              "      <td>ДПФ-5900</td>\n",
              "      <td>2023-05-02</td>\n",
              "      <td>Жувлакова Елена Владимировна</td>\n",
              "      <td>Розничный</td>\n",
              "      <td>Выставочный зал Ногинск</td>\n",
              "      <td>Выставочный зал Ногинск</td>\n",
              "      <td>071</td>\n",
              "      <td>071</td>\n",
              "      <td></td>\n",
              "      <td>40х60 исп.1</td>\n",
              "      <td>...</td>\n",
              "      <td>0</td>\n",
              "      <td>NaN</td>\n",
              "      <td>Соголова Мария</td>\n",
              "      <td>02.05.2023</td>\n",
              "      <td>№компл.3133</td>\n",
              "      <td>-</td>\n",
              "      <td>КРЕДИТ ЕВРОПА БАНК ЗАО - Безналичный расчет</td>\n",
              "      <td>Продажа с подиума</td>\n",
              "      <td>NaN</td>\n",
              "      <td>NaN</td>\n",
              "    </tr>\n",
              "    <tr>\n",
              "      <th>6</th>\n",
              "      <td>ДПФ-63</td>\n",
              "      <td>2023-05-22</td>\n",
              "      <td>Березина Наталья Геннадьевна</td>\n",
              "      <td>Франчайзи МТ</td>\n",
              "      <td>Франчайзи М</td>\n",
              "      <td>Ретюнская К.А., ИП, ТЦ \"Мебель парк\", г.Чита</td>\n",
              "      <td>№018</td>\n",
              "      <td>№018</td>\n",
              "      <td></td>\n",
              "      <td>(декор подл+ков ВТ)Н30н+(2)65н+7Ян</td>\n",
              "      <td>...</td>\n",
              "      <td>0</td>\n",
              "      <td>NaN</td>\n",
              "      <td>NaN</td>\n",
              "      <td>22.05.2023</td>\n",
              "      <td>-</td>\n",
              "      <td>Без акции</td>\n",
              "      <td>NaN</td>\n",
              "      <td>Продажа с подиума</td>\n",
              "      <td>NaN</td>\n",
              "      <td>NaN</td>\n",
              "    </tr>\n",
              "    <tr>\n",
              "      <th>7</th>\n",
              "      <td>ДПФ-596</td>\n",
              "      <td>2023-05-27</td>\n",
              "      <td>Ивашечкин Олег</td>\n",
              "      <td>МООН</td>\n",
              "      <td>Розница M</td>\n",
              "      <td>\"МООН-М\", МЦ \"Большая Медведица\" (MOON) г. Кол...</td>\n",
              "      <td>123</td>\n",
              "      <td>123</td>\n",
              "      <td></td>\n",
              "      <td>ник)(2)65а v1+(прав.подл</td>\n",
              "      <td>...</td>\n",
              "      <td>0</td>\n",
              "      <td>NaN</td>\n",
              "      <td>Ионина Галина Сергеевна</td>\n",
              "      <td>27.05.2023</td>\n",
              "      <td>-</td>\n",
              "      <td>Без акции</td>\n",
              "      <td>СБЕРБАНК РОССИИ ОАО - Безналичный расчет</td>\n",
              "      <td>Продажа с подиума</td>\n",
              "      <td>NaN</td>\n",
              "      <td>NaN</td>\n",
              "    </tr>\n",
              "    <tr>\n",
              "      <th>9</th>\n",
              "      <td>ДДФ-10677</td>\n",
              "      <td>2023-05-07</td>\n",
              "      <td>Сумникова Марина Валерьевна</td>\n",
              "      <td>Розничный</td>\n",
              "      <td>Выставочный зал Ногинск</td>\n",
              "      <td>Выставочный зал Ногинск</td>\n",
              "      <td>120</td>\n",
              "      <td>120</td>\n",
              "      <td></td>\n",
              "      <td>12 H</td>\n",
              "      <td>...</td>\n",
              "      <td>0</td>\n",
              "      <td>NaN</td>\n",
              "      <td>Соголова Мария</td>\n",
              "      <td>13.05.2023</td>\n",
              "      <td>-</td>\n",
              "      <td>-</td>\n",
              "      <td>КРЕДИТ ЕВРОПА БАНК ЗАО - Безналичный расчет</td>\n",
              "      <td>NaN</td>\n",
              "      <td>NaN</td>\n",
              "      <td>NaN</td>\n",
              "    </tr>\n",
              "  </tbody>\n",
              "</table>\n",
              "<p>5 rows × 35 columns</p>\n",
              "</div>\n",
              "      <button class=\"colab-df-convert\" onclick=\"convertToInteractive('df-c8b0effe-93a5-4b7e-bf13-af375450acfa')\"\n",
              "              title=\"Convert this dataframe to an interactive table.\"\n",
              "              style=\"display:none;\">\n",
              "\n",
              "  <svg xmlns=\"http://www.w3.org/2000/svg\" height=\"24px\"viewBox=\"0 0 24 24\"\n",
              "       width=\"24px\">\n",
              "    <path d=\"M0 0h24v24H0V0z\" fill=\"none\"/>\n",
              "    <path d=\"M18.56 5.44l.94 2.06.94-2.06 2.06-.94-2.06-.94-.94-2.06-.94 2.06-2.06.94zm-11 1L8.5 8.5l.94-2.06 2.06-.94-2.06-.94L8.5 2.5l-.94 2.06-2.06.94zm10 10l.94 2.06.94-2.06 2.06-.94-2.06-.94-.94-2.06-.94 2.06-2.06.94z\"/><path d=\"M17.41 7.96l-1.37-1.37c-.4-.4-.92-.59-1.43-.59-.52 0-1.04.2-1.43.59L10.3 9.45l-7.72 7.72c-.78.78-.78 2.05 0 2.83L4 21.41c.39.39.9.59 1.41.59.51 0 1.02-.2 1.41-.59l7.78-7.78 2.81-2.81c.8-.78.8-2.07 0-2.86zM5.41 20L4 18.59l7.72-7.72 1.47 1.35L5.41 20z\"/>\n",
              "  </svg>\n",
              "      </button>\n",
              "\n",
              "\n",
              "\n",
              "    <div id=\"df-01bbffd2-0fb4-45cd-829f-26b44805bbfa\">\n",
              "      <button class=\"colab-df-quickchart\" onclick=\"quickchart('df-01bbffd2-0fb4-45cd-829f-26b44805bbfa')\"\n",
              "              title=\"Suggest charts.\"\n",
              "              style=\"display:none;\">\n",
              "\n",
              "<svg xmlns=\"http://www.w3.org/2000/svg\" height=\"24px\"viewBox=\"0 0 24 24\"\n",
              "     width=\"24px\">\n",
              "    <g>\n",
              "        <path d=\"M19 3H5c-1.1 0-2 .9-2 2v14c0 1.1.9 2 2 2h14c1.1 0 2-.9 2-2V5c0-1.1-.9-2-2-2zM9 17H7v-7h2v7zm4 0h-2V7h2v10zm4 0h-2v-4h2v4z\"/>\n",
              "    </g>\n",
              "</svg>\n",
              "      </button>\n",
              "    </div>\n",
              "\n",
              "<style>\n",
              "  .colab-df-quickchart {\n",
              "    background-color: #E8F0FE;\n",
              "    border: none;\n",
              "    border-radius: 50%;\n",
              "    cursor: pointer;\n",
              "    display: none;\n",
              "    fill: #1967D2;\n",
              "    height: 32px;\n",
              "    padding: 0 0 0 0;\n",
              "    width: 32px;\n",
              "  }\n",
              "\n",
              "  .colab-df-quickchart:hover {\n",
              "    background-color: #E2EBFA;\n",
              "    box-shadow: 0px 1px 2px rgba(60, 64, 67, 0.3), 0px 1px 3px 1px rgba(60, 64, 67, 0.15);\n",
              "    fill: #174EA6;\n",
              "  }\n",
              "\n",
              "  [theme=dark] .colab-df-quickchart {\n",
              "    background-color: #3B4455;\n",
              "    fill: #D2E3FC;\n",
              "  }\n",
              "\n",
              "  [theme=dark] .colab-df-quickchart:hover {\n",
              "    background-color: #434B5C;\n",
              "    box-shadow: 0px 1px 3px 1px rgba(0, 0, 0, 0.15);\n",
              "    filter: drop-shadow(0px 1px 2px rgba(0, 0, 0, 0.3));\n",
              "    fill: #FFFFFF;\n",
              "  }\n",
              "</style>\n",
              "\n",
              "    <script>\n",
              "      async function quickchart(key) {\n",
              "        const containerElement = document.querySelector('#' + key);\n",
              "        const charts = await google.colab.kernel.invokeFunction(\n",
              "            'suggestCharts', [key], {});\n",
              "      }\n",
              "    </script>\n",
              "\n",
              "      <script>\n",
              "\n",
              "function displayQuickchartButton(domScope) {\n",
              "  let quickchartButtonEl =\n",
              "    domScope.querySelector('#df-01bbffd2-0fb4-45cd-829f-26b44805bbfa button.colab-df-quickchart');\n",
              "  quickchartButtonEl.style.display =\n",
              "    google.colab.kernel.accessAllowed ? 'block' : 'none';\n",
              "}\n",
              "\n",
              "        displayQuickchartButton(document);\n",
              "      </script>\n",
              "      <style>\n",
              "    .colab-df-container {\n",
              "      display:flex;\n",
              "      flex-wrap:wrap;\n",
              "      gap: 12px;\n",
              "    }\n",
              "\n",
              "    .colab-df-convert {\n",
              "      background-color: #E8F0FE;\n",
              "      border: none;\n",
              "      border-radius: 50%;\n",
              "      cursor: pointer;\n",
              "      display: none;\n",
              "      fill: #1967D2;\n",
              "      height: 32px;\n",
              "      padding: 0 0 0 0;\n",
              "      width: 32px;\n",
              "    }\n",
              "\n",
              "    .colab-df-convert:hover {\n",
              "      background-color: #E2EBFA;\n",
              "      box-shadow: 0px 1px 2px rgba(60, 64, 67, 0.3), 0px 1px 3px 1px rgba(60, 64, 67, 0.15);\n",
              "      fill: #174EA6;\n",
              "    }\n",
              "\n",
              "    [theme=dark] .colab-df-convert {\n",
              "      background-color: #3B4455;\n",
              "      fill: #D2E3FC;\n",
              "    }\n",
              "\n",
              "    [theme=dark] .colab-df-convert:hover {\n",
              "      background-color: #434B5C;\n",
              "      box-shadow: 0px 1px 3px 1px rgba(0, 0, 0, 0.15);\n",
              "      filter: drop-shadow(0px 1px 2px rgba(0, 0, 0, 0.3));\n",
              "      fill: #FFFFFF;\n",
              "    }\n",
              "  </style>\n",
              "\n",
              "      <script>\n",
              "        const buttonEl =\n",
              "          document.querySelector('#df-c8b0effe-93a5-4b7e-bf13-af375450acfa button.colab-df-convert');\n",
              "        buttonEl.style.display =\n",
              "          google.colab.kernel.accessAllowed ? 'block' : 'none';\n",
              "\n",
              "        async function convertToInteractive(key) {\n",
              "          const element = document.querySelector('#df-c8b0effe-93a5-4b7e-bf13-af375450acfa');\n",
              "          const dataTable =\n",
              "            await google.colab.kernel.invokeFunction('convertToInteractive',\n",
              "                                                     [key], {});\n",
              "          if (!dataTable) return;\n",
              "\n",
              "          const docLinkHtml = 'Like what you see? Visit the ' +\n",
              "            '<a target=\"_blank\" href=https://colab.research.google.com/notebooks/data_table.ipynb>data table notebook</a>'\n",
              "            + ' to learn more about interactive tables.';\n",
              "          element.innerHTML = '';\n",
              "          dataTable['output_type'] = 'display_data';\n",
              "          await google.colab.output.renderOutput(dataTable, element);\n",
              "          const docLink = document.createElement('div');\n",
              "          docLink.innerHTML = docLinkHtml;\n",
              "          element.appendChild(docLink);\n",
              "        }\n",
              "      </script>\n",
              "    </div>\n",
              "  </div>\n"
            ]
          },
          "metadata": {},
          "execution_count": 159
        }
      ]
    },
    {
      "cell_type": "code",
      "source": [
        "df.to_excel('res.xlsx')"
      ],
      "metadata": {
        "id": "rYTDbSLIPZtn"
      },
      "execution_count": null,
      "outputs": []
    }
  ]
}