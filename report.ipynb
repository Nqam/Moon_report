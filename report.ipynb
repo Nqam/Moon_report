{
  "nbformat": 4,
  "nbformat_minor": 0,
  "metadata": {
    "colab": {
      "provenance": [],
      "mount_file_id": "https://github.com/Nqam/store_report/blob/main/report.ipynb",
      "authorship_tag": "ABX9TyPYiPzB0oRzY8nfX13Hhj0a",
      "include_colab_link": true
    },
    "kernelspec": {
      "name": "python3",
      "display_name": "Python 3"
    },
    "language_info": {
      "name": "python"
    }
  },
  "cells": [
    {
      "cell_type": "markdown",
      "metadata": {
        "id": "view-in-github",
        "colab_type": "text"
      },
      "source": [
        "<a href=\"https://colab.research.google.com/github/Nqam/Moon_report/blob/main/report.ipynb\" target=\"_parent\"><img src=\"https://colab.research.google.com/assets/colab-badge.svg\" alt=\"Open In Colab\"/></a>"
      ]
    },
    {
      "cell_type": "markdown",
      "source": [
        "Импортируем библиотеки для работы с таблицами"
      ],
      "metadata": {
        "id": "a7pzXA-0Zwtj"
      }
    },
    {
      "cell_type": "code",
      "execution_count": 1,
      "metadata": {
        "id": "iH2NpwtDWHkg"
      },
      "outputs": [],
      "source": [
        "import pandas as pd\n",
        "import numpy as np\n",
        "import re"
      ]
    },
    {
      "cell_type": "code",
      "source": [
        "#Указываем путь на отчеты для каждой переменной - розничный и фабричный\n",
        "#(можно загрузить файлы во временную библиотеку блокнота и провести все операции с ними)\n",
        "rozn = '/content/drive/MyDrive/Розничный отчет Май 1-31.xlsx'\n",
        "fabr = '/content/drive/MyDrive/Май 1-31 фабричный.xlsx'"
      ],
      "metadata": {
        "id": "iDtjotwyWJw5"
      },
      "execution_count": null,
      "outputs": []
    },
    {
      "cell_type": "code",
      "source": [
        "#Указываем путь на отчеты для каждой переменной - розничный и фабричный\n",
        "#(можно загрузить файлы во временную библиотеку блокнота и провести все операции с ними)\n",
        "rozn = '/content/Июль_1_31_23г_Розничный_отчет_не_вычищенный.xls'\n",
        "fabr = '/content/Июль_1_31_23г_Фабричный_отчет_не_вычищенный.xlsx'"
      ],
      "metadata": {
        "id": "cBn3D79QsqU8"
      },
      "execution_count": 2,
      "outputs": []
    },
    {
      "cell_type": "markdown",
      "source": [
        "Загружаем отчеты в память программы"
      ],
      "metadata": {
        "id": "I1m7K2ybgOQ0"
      }
    },
    {
      "cell_type": "code",
      "source": [
        "%%time\n",
        "rozn_t = pd.read_excel(rozn, skiprows=2) #это розничный отчет, пропускаются две строки, там шапка с объединенными ячейками\n",
        "fabr_t = pd.read_excel(fabr) #это фабричный отчет"
      ],
      "metadata": {
        "id": "hmYkVWIoWi8G",
        "colab": {
          "base_uri": "https://localhost:8080/"
        },
        "outputId": "201dd641-aa47-4d51-eb72-4d4962754c04"
      },
      "execution_count": 3,
      "outputs": [
        {
          "output_type": "stream",
          "name": "stderr",
          "text": [
            "/usr/local/lib/python3.10/dist-packages/openpyxl/styles/stylesheet.py:226: UserWarning: Workbook contains no default style, apply openpyxl's default\n",
            "  warn(\"Workbook contains no default style, apply openpyxl's default\")\n"
          ]
        },
        {
          "output_type": "stream",
          "name": "stdout",
          "text": [
            "CPU times: user 11.4 s, sys: 80.1 ms, total: 11.5 s\n",
            "Wall time: 11.8 s\n"
          ]
        }
      ]
    },
    {
      "cell_type": "markdown",
      "source": [
        "Переименовываем все столбцы к общему виду"
      ],
      "metadata": {
        "id": "WRoii_GPZj64"
      }
    },
    {
      "cell_type": "code",
      "source": [
        "rozn_t = rozn_t.rename(columns={'Модель': 'Дизайн',\n",
        "                        'Цвет':'Цвет ткани',\n",
        "                        'Название акции':'Акции',\n",
        "                        'Структура на момент продажи':'Коллекция'})\n",
        "\n",
        "fabr_t = fabr_t.rename(columns={'№':'Договор',\n",
        "                        'от даты':'Дата',\n",
        "                        'Основа':'Ткань',\n",
        "                        'Оформил':'Продавец',\n",
        "                        'Канал сбыта':'Канал продаж',\n",
        "                        'Цвет основы':'Цвет ткани',\n",
        "                        'Модель':'Дизайн',\n",
        "                        'Название акции':'Акции',\n",
        "                        'Заказчик':'Розничная точка',\n",
        "                        '№ комп':'Номер комплекта'\n",
        "                        })\n",
        "\n",
        "#Добавляем недостающие для слияния столбцы\n",
        "rozn_t['Источник_строк'] = 'Розничный отчет'\n",
        "rozn_t['Канал продаж'] = ''\n",
        "rozn_t['Скид. пост.'] = np.NaN\n",
        "rozn_t['Скид. фабр.'] = np.NaN\n",
        "rozn_t['Кат.'] = ''\n",
        "rozn_t['Номер комплекта'] = ''\n",
        "\n",
        "fabr_t['Источник_строк'] = 'Фабричный отчет'\n",
        "fabr_t['Заказчик'] = ''\n",
        "fabr_t['Механизм трансформации'] = ''\n",
        "fabr_t['Банковские продукты'] = ''\n",
        "fabr_t['Название салона'] = ''\n",
        "fabr_t['Юр. лицо'] = ''"
      ],
      "metadata": {
        "id": "eA-54iRuWy4M"
      },
      "execution_count": 4,
      "outputs": []
    },
    {
      "cell_type": "code",
      "source": [
        "rozn_t = rozn_t[[\n",
        "  'Источник_строк','Акции','Банковские продукты','Бренд','Дата','Дизайн','Договор','Заказчик',\n",
        "  'Канал продаж','Кат.','Категория заказчика','Комплектация','Номер комплекта','Коллекция','Механизм трансформации',\n",
        "  'Название салона','Особые отметки','Пл.отгруз','Примечание','Продавец','Регион','Розничная точка',\n",
        "  'Руководитель группы','Скид. пост.','Скид. прод.','Скид. фабр.','Сумма','Ткань','Цвет ткани',\n",
        "  'Цена','Шт.','Юр. лицо']]"
      ],
      "metadata": {
        "id": "OIu4k7wOmKps"
      },
      "execution_count": 5,
      "outputs": []
    },
    {
      "cell_type": "code",
      "source": [
        "fabr_t = fabr_t[[\n",
        "  'Источник_строк','Акции','Банковские продукты','Бренд','Дата','Дизайн','Договор',\n",
        "  'Заказчик','Канал продаж','Кат.','Категория заказчика','Комплектация','Номер комплекта','Коллекция',\n",
        "  'Механизм трансформации','Название салона','Особые отметки','Пл.отгруз','Примечание',\n",
        "  'Продавец','Регион','Розничная точка','Руководитель группы','Скид. пост.','Скид. прод.',\n",
        "  'Скид. фабр.','Сумма','Ткань','Цвет ткани','Цена','Шт.','Юр. лицо']]"
      ],
      "metadata": {
        "id": "H1Yjm12vmiOQ"
      },
      "execution_count": 6,
      "outputs": []
    },
    {
      "cell_type": "code",
      "source": [
        "def rozn(x):\n",
        "  if x['Розничная точка'] == '' or pd.isna(x['Розничная точка']) == True:\n",
        "    return ''\n",
        "  elif 'оптовый' in x['Категория заказчика'].lower():\n",
        "    return 'Оптовый'\n",
        "  elif x['Категория заказчика'].lower() == 'франчайзи м':\n",
        "    return 'Франчайзи М'\n",
        "  elif 'франчайзи мт' in x['Категория заказчика'].lower():\n",
        "    return 'Франчайзи MF'\n",
        "  elif 'дисконт moon-trade' in x['Розничная точка'].lower():\n",
        "    return 'Выставочный зал фабрики MF'\n",
        "  elif 'кроват' in x['Розничная точка'].lower():\n",
        "    return 'КиМ'\n",
        "  elif 'интернет' not in x['Розничная точка'].lower() and 'выставочный зал ногинск' in x['Розничная точка'].lower():\n",
        "    return 'Выставочный зал фабрики MOON'\n",
        "  elif 'михайлова' in x['Руководитель группы'].lower() and 'дисконт moon-trade' not in x['Розничная точка'].lower():\n",
        "    return 'Розница MF'\n",
        "  elif 'носкова' in x['Руководитель группы'].lower() and 'дисконт moon-trade' not in x['Розничная точка'].lower():\n",
        "    return 'Розница M'\n",
        "  else:\n",
        "    return x['Розничная точка']\n",
        "\n",
        "rozn_t['Канал продаж'] = rozn_t.apply(rozn, axis = 1)"
      ],
      "metadata": {
        "id": "66PEnfDIOVTW"
      },
      "execution_count": 7,
      "outputs": []
    },
    {
      "cell_type": "code",
      "source": [
        "rozn_t['Канал продаж'].unique()"
      ],
      "metadata": {
        "colab": {
          "base_uri": "https://localhost:8080/"
        },
        "id": "_KiKs9QYOcRq",
        "outputId": "1270db56-8c7c-4c60-92a0-99601f1880f4"
      },
      "execution_count": 8,
      "outputs": [
        {
          "output_type": "execute_result",
          "data": {
            "text/plain": [
              "array(['Франчайзи М', 'Выставочный зал фабрики MF', 'Розница MF',\n",
              "       'Выставочный зал фабрики MOON', 'Розница M', 'КиМ', 'Оптовый',\n",
              "       'Франчайзи MF', 'Выставочный зал Ногинск(интернет)', ''],\n",
              "      dtype=object)"
            ]
          },
          "metadata": {},
          "execution_count": 8
        }
      ]
    },
    {
      "cell_type": "code",
      "source": [
        "def internet(x):\n",
        "  if x['Розничная точка'] == '' or pd.isna(x['Розничная точка']) == True:\n",
        "    return x['Канал продаж']\n",
        "  elif 'живые диваны' in x['Розничная точка'].lower() and 'интернет' in x['Розничная точка'].lower():\n",
        "    return 'ИМ Фабрики (Москва)'\n",
        "  elif '(интернет)' in x['Розничная точка'].lower() and 'г.' in x['Розничная точка'].lower():\n",
        "    return 'ИМ Регионы'\n",
        "  elif 'живые диваны' and ('ИП' in x['Розничная точка'] or x['Розничная точка'].lower().count('ооо') > 1):\n",
        "    return 'ИМ Партнеры'\n",
        "  else:\n",
        "    return 'DROP'\n",
        "\n",
        "\n",
        "fabr_t['Канал продаж'] = fabr_t.apply(internet, axis = 1)\n",
        "fabr_t = fabr_t[fabr_t['Канал продаж'] != 'DROP']"
      ],
      "metadata": {
        "id": "5dyNHYtPJUB7"
      },
      "execution_count": 9,
      "outputs": []
    },
    {
      "cell_type": "code",
      "source": [
        "fabr_t['Канал продаж'].unique()"
      ],
      "metadata": {
        "colab": {
          "base_uri": "https://localhost:8080/"
        },
        "id": "cQ4G1JRHLsuv",
        "outputId": "b41deec8-6436-4272-9667-434157c24e8c"
      },
      "execution_count": 10,
      "outputs": [
        {
          "output_type": "execute_result",
          "data": {
            "text/plain": [
              "array(['ИМ Партнеры', 'ИМ Регионы', 'ИМ Фабрики (Москва)', nan],\n",
              "      dtype=object)"
            ]
          },
          "metadata": {},
          "execution_count": 10
        }
      ]
    },
    {
      "cell_type": "code",
      "source": [
        "df = pd.concat([rozn_t,fabr_t], ignore_index=True)\n",
        "df = df[df['Дата'].isna() == False]\n",
        "df['Шт. для MOON'] = ''\n",
        "df['Диз+мех'] = ''\n",
        "df['Спальное место'] = ''\n",
        "df['Тип дивана'] = ''\n",
        "df['Настил'] = ''\n",
        "df['Категория заказчика'] = df['Категория заказчика'].astype(str)\n",
        "df[['Комплектация', 'Механизм трансформации','Розничная точка']] = df[['Комплектация', 'Механизм трансформации','Розничная точка']].fillna('')\n",
        "df['Скид. прод.'] = df['Скид. прод.'].str.replace(',', '.').astype('float64')\n",
        "df['Сумма'] = df['Сумма'].astype(float)\n",
        "df['Шт.'] = df['Шт.'].astype(int)"
      ],
      "metadata": {
        "id": "Qyrs7xDWlTTw"
      },
      "execution_count": 37,
      "outputs": []
    },
    {
      "cell_type": "code",
      "source": [
        "df['Скид. прод.'].unique()"
      ],
      "metadata": {
        "id": "OZi32YYnc0WU",
        "outputId": "6f3e9483-5d8d-4d18-f1d2-6b9e765bb6ed",
        "colab": {
          "base_uri": "https://localhost:8080/"
        }
      },
      "execution_count": 38,
      "outputs": [
        {
          "output_type": "execute_result",
          "data": {
            "text/plain": [
              "array([ 0.  , 56.41, 81.  , ..., 31.74, 66.92, 49.16])"
            ]
          },
          "metadata": {},
          "execution_count": 38
        }
      ]
    },
    {
      "cell_type": "code",
      "source": [
        "df.dtypes"
      ],
      "metadata": {
        "id": "c5DghgWeck0z",
        "outputId": "e2ae1942-57de-4c26-9fb7-95c0d318fd2d",
        "colab": {
          "base_uri": "https://localhost:8080/"
        }
      },
      "execution_count": 41,
      "outputs": [
        {
          "output_type": "execute_result",
          "data": {
            "text/plain": [
              "Источник_строк                    object\n",
              "Акции                             object\n",
              "Банковские продукты               object\n",
              "Бренд                             object\n",
              "Дата                      datetime64[ns]\n",
              "Дизайн                            object\n",
              "Договор                           object\n",
              "Заказчик                          object\n",
              "Канал продаж                      object\n",
              "Кат.                              object\n",
              "Категория заказчика               object\n",
              "Комплектация                      object\n",
              "Номер комплекта                   object\n",
              "Коллекция                         object\n",
              "Механизм трансформации            object\n",
              "Название салона                   object\n",
              "Особые отметки                    object\n",
              "Пл.отгруз                         object\n",
              "Примечание                        object\n",
              "Продавец                          object\n",
              "Регион                            object\n",
              "Розничная точка                   object\n",
              "Руководитель группы               object\n",
              "Скид. пост.                      float64\n",
              "Скид. прод.                      float64\n",
              "Скид. фабр.                      float64\n",
              "Сумма                            float64\n",
              "Ткань                             object\n",
              "Цвет ткани                        object\n",
              "Цена                             float64\n",
              "Шт.                                int64\n",
              "Юр. лицо                          object\n",
              "Шт. для MOON                      object\n",
              "Диз+мех                           object\n",
              "Спальное место                    object\n",
              "Тип дивана                        object\n",
              "Настил                            object\n",
              "dtype: object"
            ]
          },
          "metadata": {},
          "execution_count": 41
        }
      ]
    },
    {
      "cell_type": "markdown",
      "source": [
        "Удаляем модель 500 и точки содержащие \"склад\" и \"интернет\""
      ],
      "metadata": {
        "id": "DZX8vj_sgR1J"
      }
    },
    {
      "cell_type": "code",
      "source": [
        "def int_skl(x):\n",
        "  if x == '':\n",
        "    return x\n",
        "  elif 'склад' in x.lower():\n",
        "    return 'DROP_ROW'\n",
        "  elif 'интернет' in x.lower() and 'ногинск' not in x.lower():\n",
        "    return 'DROP_ROW'\n",
        "  else:\n",
        "    return x\n",
        "\n",
        "df['Розничная точка_code'] = df['Розничная точка'].apply(int_skl)\n",
        "df = df[(df['Розничная точка'] != 'DROP_ROW')&(df['Дизайн'] != '500')]\n",
        "df = df.drop('Розничная точка_code', axis=1)"
      ],
      "metadata": {
        "id": "FD1f4qoFv0oN"
      },
      "execution_count": null,
      "outputs": []
    },
    {
      "cell_type": "markdown",
      "source": [
        "Меняем поле \"дата\" на нормальный тип"
      ],
      "metadata": {
        "id": "2G8H4sGJgXcp"
      }
    },
    {
      "cell_type": "code",
      "source": [
        "#from pandas.io.sql import date\n",
        "def str_to_date(x):\n",
        "  x = '.'.join([x[0:2],x[3:5],x[6:10]])\n",
        "  return x\n",
        "\n",
        "df['Дата'] = pd.to_datetime(df['Дата'].apply(str_to_date), dayfirst=True)"
      ],
      "metadata": {
        "id": "SBNrmrU0d-8c"
      },
      "execution_count": 40,
      "outputs": []
    },
    {
      "cell_type": "markdown",
      "source": [
        "Убираем лишнее в поле \"механизм трансформации\" (МТ, кавычки)"
      ],
      "metadata": {
        "id": "jdyr7X02ga-s"
      }
    },
    {
      "cell_type": "code",
      "source": [
        "def mechanism(x):\n",
        "  if x == '':\n",
        "    return x\n",
        "  elif pd.isna(x) == True:\n",
        "    return ''\n",
        "  elif ('МТ ' in x or 'МТ ' in x) and x[-2] != ' ':\n",
        "    return x[3:].replace('\"','')\n",
        "  elif re.search(r'^\\bМТ',x) and x[-2] == ' ':\n",
        "    return x[3:-2].replace('\"','')\n",
        "  elif not re.search(r'^\\bМТ',x) and x[-2] == ' ':\n",
        "    return x[:-2].replace('\"','')\n",
        "  else:\n",
        "    return x\n",
        "\n",
        "df['Механизм трансформации'] = df['Механизм трансформации'].apply(mechanism)"
      ],
      "metadata": {
        "id": "gK_HF0m2hp99"
      },
      "execution_count": null,
      "outputs": []
    },
    {
      "cell_type": "code",
      "source": [
        "df['Механизм трансформации'].unique()"
      ],
      "metadata": {
        "colab": {
          "base_uri": "https://localhost:8080/"
        },
        "id": "Z2JqgO4dWpvF",
        "outputId": "3b647968-a893-4af3-e79a-8d8a258abc38"
      },
      "execution_count": null,
      "outputs": [
        {
          "output_type": "execute_result",
          "data": {
            "text/plain": [
              "array(['', 'Аккордеон', 'Пантограф', 'Еврокнижка', 'Кресла без механизма',\n",
              "       'Седафлекс', 'Дельфин'], dtype=object)"
            ]
          },
          "metadata": {},
          "execution_count": 437
        }
      ]
    },
    {
      "cell_type": "markdown",
      "source": [
        "Убираем из примечаний и особых отметок \"отказы\" и \"ошибочные\""
      ],
      "metadata": {
        "id": "BlYWZxVklweY"
      }
    },
    {
      "cell_type": "code",
      "source": [
        "df['Примечание'] = df['Примечание'].fillna('-')\n",
        "df['Особые отметки'] = df['Особые отметки'].fillna('-')\n",
        "df = df[(df['Примечание'].str.lower().str.contains('отказ', regex=True) == False)&(df['Примечание'].str.lower().str.contains('ошибочн', regex=True) == False)\\\n",
        "        &(df['Особые отметки'].str.lower().str.contains('отказ', regex=True) == False)|(df['Особые отметки'].str.lower().str.contains('ошибочн', regex=True) == False)]"
      ],
      "metadata": {
        "id": "MifqVHQNf4Y_"
      },
      "execution_count": null,
      "outputs": []
    },
    {
      "cell_type": "markdown",
      "source": [
        "Меняем бренды"
      ],
      "metadata": {
        "id": "g9xyuz7932b8"
      }
    },
    {
      "cell_type": "code",
      "source": [
        "#Меняю бренды на MOON или MOONFAMILY\n",
        "def brand(x):\n",
        "  if x == '':\n",
        "    return x\n",
        "  elif pd.isna(x) == True:\n",
        "    return ''\n",
        "  elif  'marketpl' in x.lower() and 'moonfamily' not in x.lower():\n",
        "    return 'MOON'\n",
        "  elif 'moonfamily' in x.lower() and 'marketpl' in x.lower():\n",
        "    return 'MOONFAMILY'\n",
        "  elif  x.lower() == 'marketplace':\n",
        "    return 'MOONFAMILY'\n",
        "  else:\n",
        "    return x\n",
        "\n",
        "df['Бренд'] = df['Бренд'].apply(brand)\n",
        "df = df[df['Бренд'] != 'HOFF'] #Удаляю строки с брендом ХОФФ"
      ],
      "metadata": {
        "id": "D0Hj1kyt341-"
      },
      "execution_count": null,
      "outputs": []
    },
    {
      "cell_type": "code",
      "source": [
        "df['Бренд'].unique()"
      ],
      "metadata": {
        "colab": {
          "base_uri": "https://localhost:8080/"
        },
        "id": "apR0S4YncD80",
        "outputId": "9f2db33d-1825-4375-be2c-8c718ba67b84"
      },
      "execution_count": null,
      "outputs": [
        {
          "output_type": "execute_result",
          "data": {
            "text/plain": [
              "array(['', 'MOON', 'MOONFAMILY'], dtype=object)"
            ]
          },
          "metadata": {},
          "execution_count": 440
        }
      ]
    },
    {
      "cell_type": "markdown",
      "source": [
        "Удаляем пустую или нулевую сумму заказа"
      ],
      "metadata": {
        "id": "eY7g71PR740m"
      }
    },
    {
      "cell_type": "code",
      "source": [
        "df = df[(df['Сумма'] != 0) & (pd.isna(df['Сумма']) == False)]"
      ],
      "metadata": {
        "id": "v15xwogi53LJ"
      },
      "execution_count": null,
      "outputs": []
    },
    {
      "cell_type": "markdown",
      "source": [
        "Переименовать розничную точку ДИСКОНТ MOON_TRADE в Выставочный зал фабрики MF\n",
        "\n",
        "Руководитель направления(группы) Осипова + Розничная точка Выставочный зал Ногинск - Выставочный зал фабрики MOON.(ДОДЕЛАТЬ)"
      ],
      "metadata": {
        "id": "AoPUBkcHSyEe"
      }
    },
    {
      "cell_type": "markdown",
      "source": [
        "Если Категория заказчика Оптовый – канал продаж Оптовый.\n",
        "Категория заказчика Франчайзи М – Франчайзи М.\n",
        "Категория заказчика Франчайзи МТ – Франчайзи MF.\n"
      ],
      "metadata": {
        "id": "LoawFsiPK1Ff"
      }
    },
    {
      "cell_type": "code",
      "source": [
        "df['Канал продаж'].unique()"
      ],
      "metadata": {
        "colab": {
          "base_uri": "https://localhost:8080/"
        },
        "id": "lW-rRqsbcrB-",
        "outputId": "c710ca96-0291-4dc9-c047-dc48008362c1"
      },
      "execution_count": null,
      "outputs": [
        {
          "output_type": "execute_result",
          "data": {
            "text/plain": [
              "array(['Франчайзи М', 'Выставочный зал фабрики MF', 'Розница MF',\n",
              "       'Розница M', 'Выставочный зал фабрики MOON', 'КиМ', 'Оптовый',\n",
              "       'Франчайзи MF', 'Выставочный зал Ногинск(интернет)', 'ИМ Партнеры',\n",
              "       'ИМ Регионы', 'ИМ Фабрики (Москва)'], dtype=object)"
            ]
          },
          "metadata": {},
          "execution_count": 442
        }
      ]
    },
    {
      "cell_type": "markdown",
      "source": [
        "1. Комплектация \"41 \" - Механизм трансформации \"Бельевой короб\"\n",
        "2. Комплектация '41.','42.',\"Т3\",\"Т10\" - Пантограф\n",
        "3. Комплектация 50. и 60. - Форвард\n",
        "4. Комплектация \"Д2\" - Дельфин\n",
        "5. Комплектация Н10, Н20, Н30, Н12 - Аккордеон\n",
        "6. Комплектация А10, А2, А3 - Еврокнижка\n",
        "7. Комплектация содержит 12 - Кресла без механизма"
      ],
      "metadata": {
        "id": "xmDPZXWDTpIO"
      }
    },
    {
      "cell_type": "code",
      "source": [
        "#Задаю списки названий которые будут использоваться для замены\n",
        "pant = ['41.','42.','Т3','Т10']\n",
        "forw = ['50.','60. ']\n",
        "accord = ['Н10', 'Н20', 'Н30', 'Н12']\n",
        "eurobook = ['А10', 'А2', 'А3']\n",
        "\n",
        "\n",
        "df['Комплектация'] = df['Комплектация'].str.replace('H10','Н10').str.replace('H20','Н20').str.replace('H30','Н30')\\\n",
        "  .str.replace('H12','Н12')\n",
        "df['Комплектация'] = df['Комплектация'].str.replace('A10','А10').str.replace('A2','А2').str.replace('A3','А3')\n",
        "df['Комплектация'] = df['Комплектация'].str.replace('T3','Т3').str.replace('T10','Т10')\n",
        "\n",
        "#Проводим замену, в случае если элемент из списка встречается в комплектации - присваиваем мех. трансформации\n",
        "def comp41(x):\n",
        "  if x['Комплектация'] == '' or pd.isna(x['Комплектация'] == True):\n",
        "    return x['Механизм трансформации']\n",
        "  elif '41 ' in x['Комплектация'] and x['Механизм трансформации'] == '':\n",
        "    return 'Бельевой короб'\n",
        "  elif any([i in x['Комплектация'] for i in pant]) and x['Механизм трансформации'] == '':\n",
        "    return 'Пантограф'\n",
        "  elif any([i in x['Комплектация'] for i in forw]) and x['Механизм трансформации'] == '':\n",
        "    return 'Форвард'\n",
        "  elif 'Д2' in x['Комплектация'] and x['Механизм трансформации'] == '':\n",
        "    return 'Дельфин'\n",
        "  elif any([i in x['Комплектация'] for i in accord]) and x['Механизм трансформации'] == '' \\\n",
        "                 and '41Н10' not in x['Комплектация'] and '41Н20' not in x['Комплектация'] and '41Н30' not in x['Комплектация']:\n",
        "    return 'Аккордеон'\n",
        "  elif any([i in x['Комплектация'] for i in eurobook]) and x['Механизм трансформации'] == '':\n",
        "    return 'Еврокнижка'\n",
        "  elif '12' in x['Комплектация'] and x['Механизм трансформации'] == '':\n",
        "    return 'Кресла без механизма'\n",
        "  else:\n",
        "    return x['Механизм трансформации']\n",
        "\n",
        "df['Механизм трансформации'] = df.apply(comp41, axis = 1)"
      ],
      "metadata": {
        "id": "XZ4MrdHbUQBv"
      },
      "execution_count": null,
      "outputs": []
    },
    {
      "cell_type": "markdown",
      "source": [
        "Добавляем новые столбцы (Диз+мех, Спальное место, Тип дивана, Настил)(ДОДЕЛАТЬ)"
      ],
      "metadata": {
        "id": "U67X-lxK6D2Z"
      }
    },
    {
      "cell_type": "code",
      "source": [
        "df['Диз+мех'] = df['Дизайн'] + ' ' + df['Механизм трансформации']"
      ],
      "metadata": {
        "id": "XqNwa3hr5Z_T"
      },
      "execution_count": null,
      "outputs": []
    },
    {
      "cell_type": "markdown",
      "source": [
        "#Спальное место\n",
        "\n",
        "Если Комплектация А10 х2 то Спальное место \"160x200\"\n",
        "\n",
        "1. А21,A22,H10,H12 -  80x200\n",
        "2. А27,A30,A32,H32,H32C -  160x200\n",
        "3. Н20,H22 -  120x200\n",
        "4. Н30 -  140x200\n",
        "5. H32XL - 180x200\n",
        "\n",
        "\n"
      ],
      "metadata": {
        "id": "ahhT0oI7Ulpu"
      }
    },
    {
      "cell_type": "code",
      "source": [
        "#Задаю списки названий которые будут использоваться для замены\n",
        "eight = ['А21','А22','Н10','Н12']\n",
        "six = ['А27','А30','А32','Н32C','Н32']\n",
        "twelve = ['Н20','Н22']\n",
        "\n",
        "#Задаем размеры спального места в зависимости от комплектации\n",
        "def place(x):\n",
        "  if x['Комплектация'] == '':\n",
        "    return x['Спальное место']\n",
        "  elif x['Комплектация'].count('А10') > 1:\n",
        "    return '160x200'\n",
        "  elif  any([i in x['Комплектация'] for i in eight]) :\n",
        "    return '80x200'\n",
        "  elif  any([i in x['Комплектация'] for i in twelve]):\n",
        "    return '120x200'\n",
        "  elif  'Н30' in x['Комплектация']:\n",
        "    return '140x200'\n",
        "  elif  any([i in x['Комплектация'] for i in six]):\n",
        "    return '160x200'\n",
        "  elif  'Н32XL' in x['Комплектация']:\n",
        "    return '180x200'\n",
        "  else:\n",
        "    return x['Спальное место']\n",
        "\n",
        "\n",
        "df['Спальное место'] = df.apply(place, axis = 1)"
      ],
      "metadata": {
        "id": "j5Ri6WMXW2Bg"
      },
      "execution_count": null,
      "outputs": []
    },
    {
      "cell_type": "markdown",
      "source": [
        "Модель\n",
        "1. 044, 123, 134 – 140x200\n",
        "2. 110, 018, 109, 125, 127, 015 – 150x208\n",
        "3. 107 – 150x210\n",
        "4. 117 – 148x208"
      ],
      "metadata": {
        "id": "KDYdpTE3YSZ2"
      }
    },
    {
      "cell_type": "code",
      "source": [
        "four = ['044','123','134'] #размер 140х200\n",
        "five = ['110','018','109','125','127','015'] #размер 150х208\n",
        "\n",
        "def place(x):\n",
        "  if x['Дизайн'] == '':\n",
        "    return x['Спальное место']\n",
        "  elif  any([i in x['Дизайн'] for i in four]) and x['Спальное место'] == '':\n",
        "    return '140x200'\n",
        "  elif  any([i in x['Дизайн'] for i in five]) and x['Спальное место'] == '':\n",
        "    return '150x208'\n",
        "  elif  '107' in x['Дизайн'] and x['Спальное место'] == '':\n",
        "    return '150x210'\n",
        "  elif  '117' in x['Дизайн'] and x['Спальное место'] == '':\n",
        "    return '148x208'\n",
        "  else:\n",
        "    return x['Спальное место']\n",
        "\n",
        "\n",
        "df['Спальное место'] = df.apply(place, axis = 1)"
      ],
      "metadata": {
        "id": "h8WDUnOoYUjg"
      },
      "execution_count": null,
      "outputs": []
    },
    {
      "cell_type": "markdown",
      "source": [
        "Пантографы\n",
        "\n",
        "1.   135,139,140,141,142,143,144,145,146,173,174,183,184,185,180 – 140x200\n",
        "2.   165, 171, 172, 175, 179 - 150x200\n",
        "3.   007, 008,808, 015, 107, 111, 112, 160, 018, 109, 124, 125, 161, 162, 166 – 160x200\n",
        "\n",
        "Пантограф\n",
        "\n",
        "1.  Модель 160 и Т30 - 160x205\n",
        "2.  Модель 176,178 если Т30 и 140 - 140x200\n",
        "3.  если 150 - 150x200\n",
        "4.  если 005, если А10 x2 - 160x200\n",
        "5. если Т30 и 150 - 150x200 (перекрывается 3 пунктом)\n",
        "\n",
        "Модель\n",
        "1. Модель 032 - 80x190"
      ],
      "metadata": {
        "id": "QQBKM_JoYXXz"
      }
    },
    {
      "cell_type": "code",
      "source": [
        "four = ['135','139','140','141','142','143','144','145','146','173','174','183','184','185','180'] #размер 140х200\n",
        "five = ['165','171','172','175','179'] #размер 150х200\n",
        "six = ['007','008','808','015','107','111','112','160','018','109','124','125','161','162','166'] #размер 160х200\n",
        "\n",
        "def place(x):\n",
        "  if x['Дизайн'] == '':\n",
        "    return x['Спальное место']\n",
        "  elif  any([i in x['Дизайн'] for i in four]) and x['Спальное место'] == '' and x['Механизм трансформации'] == 'Пантограф':\n",
        "    return '140x200'\n",
        "  elif  any([i in x['Дизайн'] for i in five]) and x['Спальное место'] == '' and x['Механизм трансформации'] == 'Пантограф':\n",
        "    return '150x200'\n",
        "  elif  any([i in x['Дизайн'] for i in six]) and x['Спальное место'] == '' and x['Механизм трансформации'] == 'Пантограф':\n",
        "    return '160x200'\n",
        "\n",
        "  elif  '160' in x['Дизайн'] and 'Т30' in x['Комплектация'] and x['Спальное место'] == '' and x['Механизм трансформации'] == 'Пантограф':\n",
        "    return '160x205'\n",
        "  elif  ('176' in x['Дизайн'] or '178' in x['Дизайн'] or '140' in x['Дизайн']) and 'Т30' in x['Комплектация']\\\n",
        "   and x['Спальное место'] == '' and x['Механизм трансформации'] == 'Пантограф':\n",
        "    return '140x200'\n",
        "  elif  '150' in x['Дизайн'] and x['Спальное место'] == '' \\\n",
        "   and x['Механизм трансформации'] == 'Пантограф':\n",
        "    return '150x200'\n",
        "  elif  ('005' in x['Дизайн'] or x['Комплектация'].count('А10') > 1 or 'Т10' in x['Комплектация'])  and  x['Спальное место'] == '' \\\n",
        "   and x['Механизм трансформации'] == 'Пантограф':\n",
        "    return '160x200'\n",
        "  elif  '032' in x['Дизайн'] and x['Спальное место'] == '':\n",
        "   return '80x190'\n",
        "  else:\n",
        "    return x['Спальное место']\n",
        "\n",
        "\n",
        "df['Спальное место'] = df.apply(place, axis = 1)"
      ],
      "metadata": {
        "id": "OOBEVzgMYX4o"
      },
      "execution_count": null,
      "outputs": []
    },
    {
      "cell_type": "markdown",
      "source": [
        "Аккордеоны\n",
        "Все комплектации, где есть модули 7Я или 91,90,17 – угловой\n",
        "Остальные – прямой\n"
      ],
      "metadata": {
        "id": "AUKs0E5JZ1zz"
      }
    },
    {
      "cell_type": "code",
      "source": [
        "def corner(x):\n",
        "  if x['Механизм трансформации'] != 'Аккордеон':\n",
        "    return x['Тип дивана']\n",
        "  elif x['Механизм трансформации'] == 'Аккордеон' and \\\n",
        "   (bool(re.search(r'(?<!\\d)90(?!\\d)',x['Комплектация'])) or bool(re.search(r'(?<!\\d)91(?!\\d)',x['Комплектация'])) \\\n",
        "    or bool(re.search(r'(?<!\\d)17(?!\\d)',x['Комплектация'])) or bool(re.search(r'(?<!\\d)7я(?!\\d)',x['Комплектация'].lower()))):\n",
        "    return 'угловой'\n",
        "  elif x['Механизм трансформации'] == 'Аккордеон' and x['Тип дивана'] == '':\n",
        "    return 'прямой'\n",
        "\n",
        "df['Тип дивана'] = df.apply(corner, axis=1)"
      ],
      "metadata": {
        "id": "yBJ4ejluZ8zd"
      },
      "execution_count": null,
      "outputs": []
    },
    {
      "cell_type": "markdown",
      "source": [
        "Дельфины\n",
        "Комплектации с Д - угловой\n",
        "Кроме Д20 и 117 комплектаций\n"
      ],
      "metadata": {
        "id": "YDR_dHthZ-Jc"
      }
    },
    {
      "cell_type": "code",
      "source": [
        "def dolphin(x):\n",
        "  if x['Механизм трансформации'] != 'Дельфин':\n",
        "    return x['Тип дивана']\n",
        "  elif x['Механизм трансформации'] == 'Дельфин' and not (bool(re.search(r'(?<!\\d)д20(?!\\d)',x['Комплектация'].lower())) or \\\n",
        "                                                        bool(re.search(r'(?<!\\d)117(?!\\d)',x['Комплектация']))):\n",
        "    return 'угловой'\n",
        "  elif x['Механизм трансформации'] == 'Дельфин' and x['Тип дивана'] == '':\n",
        "    return 'прямой'\n",
        "\n",
        "df['Тип дивана'] = df.apply(dolphin, axis=1) #что значит комплектация с Д"
      ],
      "metadata": {
        "id": "yX6ndlckZ_gr"
      },
      "execution_count": null,
      "outputs": []
    },
    {
      "cell_type": "markdown",
      "source": [
        "Еврокнижка\n",
        "Если дизайн 118 и 7Я, 7Я - угловой,\n",
        "А27 - угловой\n",
        "Модели 039, 074 – прямые\n",
        "\n",
        "005,007, 008, 160: комплектации с модулями Т7 7Я,7ПЯ,7ЛЯ, 76П(Л), 75П(Л) (не путать с 17Я) и 90 – угловые,\n",
        "остальное – прямые"
      ],
      "metadata": {
        "id": "ojowDsH9aM0p"
      }
    },
    {
      "cell_type": "code",
      "source": [
        "lst = ['005','007','008','160']\n",
        "\n",
        "\n",
        "def eurobook(x):\n",
        "  if x['Механизм трансформации'] != 'Еврокнижка':\n",
        "    return x['Тип дивана']\n",
        "  elif x['Механизм трансформации'] == 'Еврокнижка' and (bool(re.search(r'(?<!\\d)7я(?!\\d)',x['Комплектация'].lower())) or \\\n",
        "                                                        bool(re.search(r'(?<!\\d)а27(?!\\d)',x['Комплектация'].lower()))):\n",
        "    return 'угловой'\n",
        "  elif x['Механизм трансформации'] == 'Еврокнижка' and x['Дизайн'] == '118' and bool(re.search(r'(?<!\\d)7я(?!\\d)',x['Комплектация'].lower())):\n",
        "    return 'угловой'\n",
        "  elif x['Механизм трансформации'] == 'Еврокнижка' and x['Дизайн'] == '039':\n",
        "    return 'прямой'\n",
        "  elif x['Механизм трансформации'] == 'Еврокнижка' and x['Дизайн'] == '074':\n",
        "    return 'прямой'\n",
        "  elif x['Механизм трансформации'] == 'Еврокнижка' and any([i in x['Дизайн'] for i in lst]) and \\\n",
        "      (bool(re.search(r'(?<!\\d)т7(?!\\d)',x['Комплектация'].lower()))\\\n",
        "       or bool(re.search(r'(?<!\\d)90(?!\\d)',x['Комплектация'])) \\\n",
        "       or bool(re.search(r'(?<!\\d)7я(?!\\d)',x['Комплектация'].lower()))\\\n",
        "       or bool(re.search(r'(?<!\\d)7пя(?!\\d)',x['Комплектация'].lower()))\\\n",
        "       or bool(re.search(r'(?<!\\d)7ля(?!\\d)',x['Комплектация'].lower()))\\\n",
        "       or bool(re.search(r'(?<!\\d)76п(?!\\d)',x['Комплектация'].lower()))\\\n",
        "       or bool(re.search(r'(?<!\\d)76л(?!\\d)',x['Комплектация'].lower()))\\\n",
        "       or bool(re.search(r'(?<!\\d)75п(?!\\d)',x['Комплектация'].lower()))\\\n",
        "       or bool(re.search(r'(?<!\\d)75л(?!\\d)',x['Комплектация'].lower()))):\n",
        "    return 'угловой'\n",
        "  elif x['Механизм трансформации'] == 'Еврокнижка' and x['Тип дивана'] == '':\n",
        "    return 'прямой'\n",
        "\n",
        "df['Тип дивана'] = df.apply(eurobook, axis=1)"
      ],
      "metadata": {
        "id": "U8jO8kvFar11"
      },
      "execution_count": null,
      "outputs": []
    },
    {
      "cell_type": "markdown",
      "source": [
        "Пантографы\n",
        "007, 008, 160, 161, 162, 166 с модулями Т7 и 90,91 – угловые, остальное – прямые"
      ],
      "metadata": {
        "id": "zMMV8k9HbBUn"
      }
    },
    {
      "cell_type": "code",
      "source": [
        "lst = ['007','008','160','161','162','166']\n",
        "\n",
        "def func3(x):\n",
        "  if x['Механизм трансформации'] != 'Пантограф':\n",
        "    return x['Тип дивана']\n",
        "  elif x['Механизм трансформации'] == 'Пантограф' and any([i in x['Дизайн'] for i in lst]) and \\\n",
        "        (bool(re.search(r'(?<!\\d)Т7(?!\\d)',x['Комплектация']))\\\n",
        "        or bool(re.search(r'(?<!\\d)90(?!\\d)',x['Комплектация'])) \\\n",
        "        or bool(re.search(r'(?<!\\d)91(?!\\d)',x['Комплектация']))):\n",
        "    return 'угловой'\n",
        "  elif x['Механизм трансформации'] == 'Пантограф' and x['Тип дивана'] == '':\n",
        "    return 'прямой'\n",
        "\n",
        "df['Тип дивана'] = df.apply(func3, axis=1)"
      ],
      "metadata": {
        "id": "YAF1c_AIbB2s"
      },
      "execution_count": null,
      "outputs": []
    },
    {
      "cell_type": "markdown",
      "source": [
        "Проставить настил.\n",
        "Все комплектации с Lux – на НПБ, остальное – ППУ.\n"
      ],
      "metadata": {
        "id": "-wkeRkPCbFt_"
      }
    },
    {
      "cell_type": "code",
      "source": [
        "df['Настил'] = df['Комплектация'].apply(lambda x: 'НПБ' if 'lux' in x.lower() else 'ППУ')"
      ],
      "metadata": {
        "id": "DtUlR4FrbGPf"
      },
      "execution_count": null,
      "outputs": []
    },
    {
      "cell_type": "code",
      "source": [
        "#должны остаться только эти столбцы\n",
        "df = df[['Источник_строк','Договор','Дата','Заказчик','Категория заказчика','Канал продаж','Розничная точка','Дизайн','Диз+мех','Механизм трансформации',\n",
        "'Комплектация','Спальное место','Тип дивана','Настил','Ткань','Цвет ткани','Кат.','Бренд','Сумма','Цена','Шт.','Шт. для MOON',\n",
        "'Руководитель группы','Регион','Юр. лицо','Название салона','Скид. прод.','Акции','Продавец','Пл.отгруз','Примечание','Особые отметки',\n",
        "'Банковские продукты','Коллекция','Скид. пост.','Скид. фабр.',]]"
      ],
      "metadata": {
        "id": "u4SZUCmZPXem"
      },
      "execution_count": null,
      "outputs": []
    },
    {
      "cell_type": "code",
      "source": [
        "#Сцепить Канал продаж, номер договора, розничная точка - через пробел, название столбца \"Шт. для MOON\"\n",
        "df['Шт. для MOON'] = df['Канал продаж'] + ' ' + df['Договор'] + ' ' + df['Розничная точка']"
      ],
      "metadata": {
        "id": "fIeXKochrBmy",
        "colab": {
          "base_uri": "https://localhost:8080/"
        },
        "outputId": "5e462fa7-608d-41d9-da63-588236dcca29"
      },
      "execution_count": null,
      "outputs": [
        {
          "output_type": "stream",
          "name": "stderr",
          "text": [
            "<ipython-input-454-996fa1c3563e>:2: SettingWithCopyWarning: \n",
            "A value is trying to be set on a copy of a slice from a DataFrame.\n",
            "Try using .loc[row_indexer,col_indexer] = value instead\n",
            "\n",
            "See the caveats in the documentation: https://pandas.pydata.org/pandas-docs/stable/user_guide/indexing.html#returning-a-view-versus-a-copy\n",
            "  df['Шт. для MOON'] = df['Канал продаж'] + ' ' + df['Договор'] + ' ' + df['Розничная точка']\n"
          ]
        }
      ]
    },
    {
      "cell_type": "code",
      "source": [
        "%%time\n",
        "df.to_excel('res.xlsx', index=False)"
      ],
      "metadata": {
        "id": "rYTDbSLIPZtn",
        "colab": {
          "base_uri": "https://localhost:8080/"
        },
        "outputId": "9decf52e-2b8a-4db9-eb36-28969799679f"
      },
      "execution_count": null,
      "outputs": [
        {
          "output_type": "stream",
          "name": "stdout",
          "text": [
            "CPU times: user 27.5 s, sys: 364 ms, total: 27.9 s\n",
            "Wall time: 28.1 s\n"
          ]
        }
      ]
    },
    {
      "cell_type": "code",
      "source": [],
      "metadata": {
        "id": "eRhz3MOIYF_G"
      },
      "execution_count": null,
      "outputs": []
    }
  ]
}